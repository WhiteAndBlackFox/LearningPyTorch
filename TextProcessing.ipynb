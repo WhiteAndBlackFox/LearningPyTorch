{
 "cells": [
  {
   "cell_type": "markdown",
   "metadata": {
    "collapsed": true,
    "pycharm": {
     "name": "#%% md\n"
    }
   },
   "source": [
    "# Нейросети в обработке текста"
   ]
  },
  {
   "cell_type": "markdown",
   "source": [
    "В данной теме надо будет:\n",
    "* Попробовать обучить нейронную сеть с применением одномерных сверток для предсказания сентимента сообщений с твитера на примере https://www.kaggle.com/datasets/arkhoshghalb/twitter-sentiment-analysis-hatred-speech\n",
    "\n",
    "* Сделать выводы"
   ],
   "metadata": {
    "collapsed": false,
    "pycharm": {
     "name": "#%% md\n"
    }
   }
  },
  {
   "cell_type": "markdown",
   "source": [
    "## Подключаем бибилиотеки"
   ],
   "metadata": {
    "collapsed": false,
    "pycharm": {
     "name": "#%% md\n"
    }
   }
  },
  {
   "cell_type": "code",
   "execution_count": 1,
   "outputs": [],
   "source": [
    "import re\n",
    "import numpy as np\n",
    "import pandas as pd\n",
    "from tqdm import tqdm\n",
    "from string import punctuation\n",
    "from stop_words import get_stop_words\n",
    "from pymorphy2 import MorphAnalyzer\n",
    "from sklearn.model_selection import train_test_split\n",
    "\n",
    "import nltk\n",
    "from nltk.tokenize import word_tokenize\n",
    "from nltk.probability import FreqDist\n",
    "\n",
    "import torch\n",
    "import torch.nn as nn\n",
    "from torch.utils.data import DataLoader, Dataset"
   ],
   "metadata": {
    "collapsed": false,
    "pycharm": {
     "name": "#%%\n"
    }
   }
  },
  {
   "cell_type": "markdown",
   "source": [
    "## Объявим глобальные переменные"
   ],
   "metadata": {
    "collapsed": false,
    "pycharm": {
     "name": "#%% md\n"
    }
   }
  },
  {
   "cell_type": "code",
   "execution_count": 2,
   "outputs": [
    {
     "name": "stderr",
     "output_type": "stream",
     "text": [
      "[nltk_data] Downloading package punkt to\n",
      "[nltk_data]     C:\\Users\\vlad\\AppData\\Roaming\\nltk_data...\n",
      "[nltk_data]   Package punkt is already up-to-date!\n"
     ]
    },
    {
     "data": {
      "text/plain": "True"
     },
     "execution_count": 2,
     "metadata": {},
     "output_type": "execute_result"
    }
   ],
   "source": [
    "MAX_WORDS = 2000\n",
    "MAX_LEN = 20\n",
    "NUM_CLASSES = 1\n",
    "\n",
    "# Training\n",
    "EPOCHS = 5\n",
    "BATCH_SIZE = 512\n",
    "PRINT_BATCH_N = 100\n",
    "\n",
    "DEVICE = 'cuda' if torch.cuda.is_available() else 'cpu'\n",
    "\n",
    "SW = set(get_stop_words('english'))\n",
    "PUNCTS = set(punctuation)\n",
    "\n",
    "tqdm.pandas()\n",
    "nltk.download(\"punkt\")"
   ],
   "metadata": {
    "collapsed": false,
    "pycharm": {
     "name": "#%%\n"
    }
   }
  },
  {
   "cell_type": "markdown",
   "source": [
    "## Попробуем обучить нейронную сеть"
   ],
   "metadata": {
    "collapsed": false,
    "pycharm": {
     "name": "#%% md\n"
    }
   }
  },
  {
   "cell_type": "code",
   "execution_count": 3,
   "outputs": [],
   "source": [
    "df_train = pd.read_csv(\"data/TextProcessing/train.csv\")"
   ],
   "metadata": {
    "collapsed": false,
    "pycharm": {
     "name": "#%%\n"
    }
   }
  },
  {
   "cell_type": "markdown",
   "source": [
    "### Функции, которые нам понадобятся"
   ],
   "metadata": {
    "collapsed": false,
    "pycharm": {
     "name": "#%% md\n"
    }
   }
  },
  {
   "cell_type": "code",
   "execution_count": 4,
   "outputs": [],
   "source": [
    "morpher = MorphAnalyzer()\n",
    "\n",
    "# Функция для предобработки текста\n",
    "def preprocess_text(txt):\n",
    "    txt = str(txt)\n",
    "    txt = \"\".join(c for c in txt if c not in PUNCTS)\n",
    "    txt = txt.lower()\n",
    "    txt = re.sub(\"не\\s\", \"не\", txt)\n",
    "    txt = re.sub(r\"@[\\w]*\", \"\", txt)\n",
    "    txt = re.sub(r'[^\\w\\s]', \" \", txt)\n",
    "    txt = re.sub(r\"[^a-zA-Z0-9]\",\" \", txt)\n",
    "    txt = re.sub(r\"[^a-zA-Z0-9]\",\" \", txt)\n",
    "    txt = [morpher.parse(word)[0].normal_form for word in txt.split() if word not in SW]\n",
    "    return \" \".join(txt)\n",
    "\n",
    "# Функция для сборки последовательности\n",
    "def text_to_sequence(text, maxlen):\n",
    "    result = []\n",
    "    tokens = word_tokenize(text.lower())\n",
    "    tokens_filtered = [word for word in tokens if word.isalnum()]\n",
    "    for word in tokens_filtered:\n",
    "        if word in vocabulary:\n",
    "            result.append(vocabulary[word])\n",
    "\n",
    "    padding = [0] * (maxlen-len(result))\n",
    "    return result[-maxlen:] + padding"
   ],
   "metadata": {
    "collapsed": false,
    "pycharm": {
     "name": "#%%\n"
    }
   }
  },
  {
   "cell_type": "markdown",
   "source": [
    "### Предобаботаем данныые"
   ],
   "metadata": {
    "collapsed": false
   }
  },
  {
   "cell_type": "code",
   "execution_count": 5,
   "outputs": [
    {
     "name": "stderr",
     "output_type": "stream",
     "text": [
      "100%|██████████| 31962/31962 [00:05<00:00, 5669.91it/s]\n"
     ]
    }
   ],
   "source": [
    "# предобрабатываем текст\n",
    "df_train['pre_proc_tweet'] = df_train['tweet'].progress_apply(preprocess_text)"
   ],
   "metadata": {
    "collapsed": false,
    "pycharm": {
     "name": "#%%\n"
    }
   }
  },
  {
   "cell_type": "code",
   "execution_count": 6,
   "outputs": [],
   "source": [
    "# разбиваем на токены\n",
    "tokens = word_tokenize(\" \".join(df_train[\"pre_proc_tweet\"]))\n",
    "tokens_filtered = [word for word in tokens if word.isalnum()]"
   ],
   "metadata": {
    "collapsed": false,
    "pycharm": {
     "name": "#%%\n"
    }
   }
  },
  {
   "cell_type": "code",
   "execution_count": 7,
   "outputs": [],
   "source": [
    "# создаем словарь\n",
    "dist = FreqDist(tokens_filtered)\n",
    "tokens_filtered_top = [pair[0] for pair in dist.most_common(MAX_WORDS-1)]  # вычитание 1 для padding\n",
    "vocabulary = {v: k for k, v in dict(enumerate(tokens_filtered_top, 1)).items()}"
   ],
   "metadata": {
    "collapsed": false,
    "pycharm": {
     "name": "#%%\n"
    }
   }
  },
  {
   "cell_type": "code",
   "execution_count": 13,
   "outputs": [
    {
     "name": "stdout",
     "output_type": "stream",
     "text": [
      "CPU times: total: 2.67 s\n",
      "Wall time: 2.72 s\n"
     ]
    }
   ],
   "source": [
    "%%time\n",
    "x_train = np.asarray([text_to_sequence(text, MAX_LEN) for text in df_train[\"pre_proc_tweet\"]])"
   ],
   "metadata": {
    "collapsed": false,
    "pycharm": {
     "name": "#%%\n"
    }
   }
  },
  {
   "cell_type": "markdown",
   "source": [
    "### Опишем нейронную сеть с dataset"
   ],
   "metadata": {
    "collapsed": false
   }
  },
  {
   "cell_type": "code",
   "execution_count": 14,
   "outputs": [],
   "source": [
    "class TextProcessingNet(nn.Module):\n",
    "    \"\"\"\n",
    "    Описанная нейронная сеть для данных из твита\n",
    "    \"\"\"\n",
    "    def __init__(self, vocab_size=MAX_WORDS, embedding_dim=128, out_channel=128, num_classes = 1):\n",
    "        super().__init__()\n",
    "        self.embedding = nn.Embedding(vocab_size, embedding_dim)\n",
    "        self.block_1 = nn.Sequential(\n",
    "            nn.Conv1d(embedding_dim, out_channel, kernel_size=2),\n",
    "            nn.ReLU(),\n",
    "            nn.MaxPool1d(2)\n",
    "        )\n",
    "\n",
    "        self.block_2 = nn.Sequential(\n",
    "            nn.Conv1d(embedding_dim, out_channel, kernel_size=3),\n",
    "            nn.ReLU(),\n",
    "            nn.MaxPool1d(2)\n",
    "        )\n",
    "\n",
    "        self.block_3 = nn.Sequential(\n",
    "            nn.Linear(out_channel, out_channel // 2),\n",
    "            nn.ReLU(),\n",
    "            nn.Linear(out_channel // 2, num_classes)\n",
    "        )\n",
    "\n",
    "        self.sigmoid = nn.Sigmoid()\n",
    "\n",
    "\n",
    "    def forward(self, x):\n",
    "        output = self.embedding(x)\n",
    "        output = output.permute(0, 2, 1)\n",
    "        output = self.block_1(output)\n",
    "\n",
    "        output = self.block_2(output)\n",
    "        output = torch.max(output, axis=2).values\n",
    "        output = self.block_3(output)\n",
    "        output = self.sigmoid(output)\n",
    "        return output"
   ],
   "metadata": {
    "collapsed": false,
    "pycharm": {
     "name": "#%%\n"
    }
   }
  },
  {
   "cell_type": "code",
   "execution_count": 15,
   "outputs": [],
   "source": [
    "class TextProcessingDataset(Dataset):\n",
    "    \"\"\"\n",
    "    Датасет для нейронной сети\n",
    "    \"\"\"\n",
    "    def __init__(self, data, target, transform=None):\n",
    "        self.data = torch.from_numpy(data).long()\n",
    "        self.target = torch.from_numpy(target).long()\n",
    "        self.transform = transform\n",
    "\n",
    "    def __getitem__(self, index):\n",
    "        x = self.data[index]\n",
    "        y = self.target[index]\n",
    "\n",
    "        if self.transform:\n",
    "            x = self.transform(x)\n",
    "        return x, y\n",
    "\n",
    "    def __len__(self):\n",
    "        return len(self.data)"
   ],
   "metadata": {
    "collapsed": false,
    "pycharm": {
     "name": "#%%\n"
    }
   }
  },
  {
   "cell_type": "markdown",
   "source": [
    "### Обучим нейронную сеть"
   ],
   "metadata": {
    "collapsed": false
   }
  },
  {
   "cell_type": "code",
   "execution_count": 16,
   "outputs": [],
   "source": [
    "# Загружаем данные в dataset\n",
    "train_dataset = TextProcessingDataset(x_train, df_train['label'].values)\n",
    "# Разбиваем наши данные на тренеровочные и тестовые с параметрамми для трейна = 67% и теста = 33%\n",
    "train_dataset, test_dataset = train_test_split(train_dataset, train_size=0.67, test_size=0.33)\n",
    "\n",
    "train_loader = DataLoader(train_dataset, batch_size=BATCH_SIZE, shuffle=True)\n",
    "test_loader = DataLoader(test_dataset, batch_size=8, shuffle=False)"
   ],
   "metadata": {
    "collapsed": false,
    "pycharm": {
     "name": "#%%\n"
    }
   }
  },
  {
   "cell_type": "code",
   "execution_count": 17,
   "outputs": [],
   "source": [
    "# создаем нашу модель\n",
    "model = TextProcessingNet(vocab_size=MAX_WORDS)"
   ],
   "metadata": {
    "collapsed": false,
    "pycharm": {
     "name": "#%%\n"
    }
   }
  },
  {
   "cell_type": "code",
   "execution_count": 18,
   "outputs": [],
   "source": [
    "# Оптимизатор и функция потерь\n",
    "optimizer = torch.optim.SGD(model.parameters(), lr=0.01)\n",
    "criterion = nn.BCELoss()"
   ],
   "metadata": {
    "collapsed": false,
    "pycharm": {
     "name": "#%%\n"
    }
   }
  },
  {
   "cell_type": "code",
   "execution_count": 19,
   "outputs": [
    {
     "name": "stdout",
     "output_type": "stream",
     "text": [
      "Epoch [1/5]. Step [1/42]. Loss: 0.811. Acc: 0.064. Test loss: 0.826. Test acc: 0.068\n",
      "Epoch [2/5]. Step [1/42]. Loss: 0.342. Acc: 0.934. Test loss: 0.246. Test acc: 0.932\n",
      "Epoch [3/5]. Step [1/42]. Loss: 0.263. Acc: 0.928. Test loss: 0.086. Test acc: 0.932\n",
      "Epoch [4/5]. Step [1/42]. Loss: 0.312. Acc: 0.908. Test loss: 0.073. Test acc: 0.932\n",
      "Epoch [5/5]. Step [1/42]. Loss: 0.241. Acc: 0.936. Test loss: 0.070. Test acc: 0.932\n",
      "Training is finished!\n"
     ]
    }
   ],
   "source": [
    "model = model.to(DEVICE)\n",
    "model.train()\n",
    "th = 0.5\n",
    "\n",
    "train_loss_history = []\n",
    "test_loss_history = []\n",
    "\n",
    "for epoch in range(EPOCHS):\n",
    "    running_items, running_right = 0.0, 0.0\n",
    "    for i, train_data in enumerate(train_loader, 0):\n",
    "        inputs, labels = train_data[0].to(DEVICE), train_data[1].to(DEVICE)\n",
    "\n",
    "        # обнуляем градиент\n",
    "        optimizer.zero_grad()\n",
    "        outputs = model(inputs)\n",
    "\n",
    "        loss = criterion(outputs, labels.float().view(-1, 1))\n",
    "        loss.backward()\n",
    "        optimizer.step()\n",
    "\n",
    "        # подсчет ошибки на обучении\n",
    "        loss = loss.item()\n",
    "        running_items += len(labels)\n",
    "        # подсчет метрики на обучении\n",
    "        pred_labels = torch.squeeze((outputs > th).int())\n",
    "        running_right += (labels == pred_labels).sum()\n",
    "\n",
    "        # выводим статистику о процессе обучения\n",
    "        if i % 150 == 0:    # печатаем каждые 150 batches\n",
    "            model.eval()\n",
    "\n",
    "            print(f'Epoch [{epoch + 1}/{EPOCHS}]. ' \\\n",
    "                  f'Step [{i + 1}/{len(train_loader)}]. ' \\\n",
    "                  f'Loss: {loss:.3f}. ' \\\n",
    "                  f'Acc: {running_right / running_items:.3f}', end='. ')\n",
    "            running_loss, running_items, running_right = 0.0, 0.0, 0.0\n",
    "            train_loss_history.append(loss)\n",
    "\n",
    "            # выводим статистику на тестовых данных\n",
    "            test_running_right, test_running_total, test_loss = 0.0, 0.0, 0.0\n",
    "            for j, test_data in enumerate(test_loader):\n",
    "                test_labels = test_data[1]\n",
    "                test_outputs = model(test_data[0])\n",
    "\n",
    "                # подсчет ошибки на тесте\n",
    "                test_loss = criterion(test_outputs, test_labels.float().view(-1, 1))\n",
    "                # подсчет метрики на тесте\n",
    "                test_running_total += len(test_data[1])\n",
    "                pred_test_labels = torch.squeeze((test_outputs > th).int())\n",
    "                test_running_right += (test_labels == pred_test_labels).sum()\n",
    "\n",
    "            test_loss_history.append(test_loss.item())\n",
    "            print(f'Test loss: {test_loss:.3f}. Test acc: {test_running_right / test_running_total:.3f}')\n",
    "\n",
    "        model.train()\n",
    "\n",
    "print('Training is finished!')"
   ],
   "metadata": {
    "collapsed": false,
    "pycharm": {
     "name": "#%%\n"
    }
   }
  },
  {
   "cell_type": "markdown",
   "source": [
    "## Вывод"
   ],
   "metadata": {
    "collapsed": false,
    "pycharm": {
     "name": "#%% md\n"
    }
   }
  },
  {
   "cell_type": "markdown",
   "source": [
    "Было проведено 3 тестрирования (результаты представлены на результате 5-ой эпохи):\n",
    "\n",
    "1) С оптимизатором **SGD**, в результате чего у нейронной сети:\n",
    " * *test*: lost - 0.241, acc - 0.936\n",
    " * *train*: lost - 0.070, acc - 0.932\n",
    "\n",
    "2) С оптимизатором **Adam** и **минимум предобаботки теста**:\n",
    " * *test*: lost - 0.047, acc - 0.982\n",
    " * *train*: lost - 0.033, acc - 0.944\n",
    "\n",
    "3) С оптимизатором **Adam** и **дополнительной предобаботки теста**:\n",
    " * *test*: lost - 0.045, acc - 0.984\n",
    " * *train*: lost - 0.000, acc - 0.950\n",
    "\n",
    "**Результат**: обучать нейронную сеть лучше используя Adam, так же лучше как можно лучше заниматься предобработкой теста, убирая лишние данные, чтобы не сильно засорять обучение нейронной сети."
   ],
   "metadata": {
    "collapsed": false,
    "pycharm": {
     "name": "#%% md\n"
    }
   }
  }
 ],
 "metadata": {
  "kernelspec": {
   "display_name": "Python 3",
   "language": "python",
   "name": "python3"
  },
  "language_info": {
   "codemirror_mode": {
    "name": "ipython",
    "version": 2
   },
   "file_extension": ".py",
   "mimetype": "text/x-python",
   "name": "python",
   "nbconvert_exporter": "python",
   "pygments_lexer": "ipython2",
   "version": "2.7.6"
  }
 },
 "nbformat": 4,
 "nbformat_minor": 0
}