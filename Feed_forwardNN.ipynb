{
  "nbformat": 4,
  "nbformat_minor": 0,
  "metadata": {
    "colab": {
      "name": "Feed-forwardNN.ipynb",
      "provenance": [],
      "collapsed_sections": [],
      "mount_file_id": "1BierSRpnAcfRgbIro2FkmiptF1lY8zkM",
      "authorship_tag": "ABX9TyPKFeQAg/CLn9NfXYCaPu6q",
      "include_colab_link": true
    },
    "kernelspec": {
      "name": "python3",
      "display_name": "Python 3"
    },
    "language_info": {
      "name": "python"
    }
  },
  "cells": [
    {
      "cell_type": "markdown",
      "metadata": {
        "id": "view-in-github",
        "colab_type": "text"
      },
      "source": [
        "<a href=\"https://colab.research.google.com/github/WhiteAndBlackFox/LearningPyTorch/blob/FeedForwardNN/Feed_forwardNN.ipynb\" target=\"_parent\"><img src=\"https://colab.research.google.com/assets/colab-badge.svg\" alt=\"Open In Colab\"/></a>"
      ]
    },
    {
      "cell_type": "markdown",
      "source": [
        "# Feed-forwardNN"
      ],
      "metadata": {
        "id": "14RmlDPuAmF4"
      }
    },
    {
      "cell_type": "markdown",
      "source": [
        "### В качестве задачи надо разработать NN обученную на изображениях из torchvision и опознающую как минимум 8 из 10 изображений парвильно."
      ],
      "metadata": {
        "id": "skrE1vlXA4DP"
      }
    },
    {
      "cell_type": "markdown",
      "source": [
        "#### Импортиреум библиотеки"
      ],
      "metadata": {
        "id": "3-81dEEaB3QA"
      }
    },
    {
      "cell_type": "code",
      "source": [
        "# Импортируем ГЛАВНУЮ библиотеки :D\n",
        "import torch\n",
        "from torch import nn, optim\n",
        "from torch.autograd import Variable\n",
        "import torch.nn.functional as F\n",
        "\n",
        "# куда же мы без нашей библитеки библиотеки по работе с математическими функциями :)\n",
        "import numpy as np\n",
        "\n",
        "# Либо с картинками\n",
        "import torchvision\n",
        "import torchvision.transforms as transforms\n",
        "\n",
        "# Отображение картинок\n",
        "import matplotlib.pyplot as plt"
      ],
      "metadata": {
        "id": "PNwvSNp2B4I4"
      },
      "execution_count": 30,
      "outputs": []
    },
    {
      "cell_type": "markdown",
      "source": [
        "#### Сразу определим, если есть видеокарта, то лучше на ней считать иначе на cpu все делаем"
      ],
      "metadata": {
        "id": "DmnuHCqqEwpw"
      }
    },
    {
      "cell_type": "code",
      "execution_count": 2,
      "metadata": {
        "colab": {
          "base_uri": "https://localhost:8080/"
        },
        "id": "a4e6laeW-mSM",
        "outputId": "da7d6688-8989-4993-f678-81483735290a"
      },
      "outputs": [
        {
          "output_type": "stream",
          "name": "stdout",
          "text": [
            "cpu\n"
          ]
        }
      ],
      "source": [
        "device = torch.device(\"cuda:0\" if torch.cuda.is_available() else \"cpu\")\n",
        "print(device)"
      ]
    },
    {
      "cell_type": "markdown",
      "source": [
        "### Начинаем обучать нашу NN"
      ],
      "metadata": {
        "id": "qxRek_NpFdTh"
      }
    },
    {
      "cell_type": "code",
      "source": [
        "# Сразу нормализируем данные\n",
        "transformations = transforms.Compose([\n",
        "                                      transforms.ToTensor(),\n",
        "                                      transforms.Normalize((0.5, 0.5, 0.5), (0.5, 0.5, 0.5))\n",
        "                                      ])"
      ],
      "metadata": {
        "id": "ZWf6-YNiyKDv"
      },
      "execution_count": 51,
      "outputs": []
    },
    {
      "cell_type": "code",
      "source": [
        "# Собираем данные для обучения train=True\n",
        "train_dataset = torchvision.datasets.CIFAR10(root='data/',\n",
        "                                             train=True,  \n",
        "                                             transform=transformations,\n",
        "                                             download=True)"
      ],
      "metadata": {
        "colab": {
          "base_uri": "https://localhost:8080/"
        },
        "id": "pV8Jpb-rFdzf",
        "outputId": "f24a24f2-da4d-4f66-8762-0e3937657c2d"
      },
      "execution_count": 52,
      "outputs": [
        {
          "output_type": "stream",
          "name": "stdout",
          "text": [
            "Files already downloaded and verified\n"
          ]
        }
      ]
    },
    {
      "cell_type": "code",
      "source": [
        "# Смотрим какие у нас картинки - размер и название\n",
        "image, label = train_dataset[0]\n",
        "print(image.size())\n",
        "print(label)"
      ],
      "metadata": {
        "colab": {
          "base_uri": "https://localhost:8080/"
        },
        "id": "VkJpSwMNFzpH",
        "outputId": "f6862981-1dd5-407d-cd6c-ac1ea4cd5078"
      },
      "execution_count": 48,
      "outputs": [
        {
          "output_type": "stream",
          "name": "stdout",
          "text": [
            "torch.Size([3, 32, 32])\n",
            "6\n"
          ]
        }
      ]
    },
    {
      "cell_type": "code",
      "source": [
        "# На картинке лягушка\n",
        "plt.imshow(image.permute(1, 2, 0).numpy())"
      ],
      "metadata": {
        "colab": {
          "base_uri": "https://localhost:8080/",
          "height": 283
        },
        "id": "g44Xh0UEF21_",
        "outputId": "1c2b419e-21c8-42bf-8db9-db1dbde6d15e"
      },
      "execution_count": 7,
      "outputs": [
        {
          "output_type": "execute_result",
          "data": {
            "text/plain": [
              "<matplotlib.image.AxesImage at 0x7f5e0f161b50>"
            ]
          },
          "metadata": {},
          "execution_count": 7
        },
        {
          "output_type": "display_data",
          "data": {
            "text/plain": [
              "<Figure size 432x288 with 1 Axes>"
            ],
            "image/png": "[encoded data removed]"
          },
          "metadata": {
            "needs_background": "light"
          }
        }
      ]
    },
    {
      "cell_type": "code",
      "source": [
        "# Загружаем данные, для дальнейшего их обучения в тренеровочную сетку\n",
        "train_loader = torch.utils.data.DataLoader(dataset=train_dataset,\n",
        "                                           batch_size=64, \n",
        "                                           shuffle=True)"
      ],
      "metadata": {
        "id": "RAev9Q7TGA7w"
      },
      "execution_count": 53,
      "outputs": []
    },
    {
      "cell_type": "code",
      "source": [
        "# проделываем то же самое для тестовых данных train=False\n",
        "test_dataset = torchvision.datasets.CIFAR10(root='./data', train=False,\n",
        "                                       download=True, transform=transformations)\n",
        "test_loader = torch.utils.data.DataLoader(test_dataset, batch_size=10,\n",
        "                                         shuffle=False)"
      ],
      "metadata": {
        "colab": {
          "base_uri": "https://localhost:8080/"
        },
        "id": "se2ZsXBVG73x",
        "outputId": "5ab5d199-f813-42bd-e049-21dba02b3ea1"
      },
      "execution_count": 74,
      "outputs": [
        {
          "output_type": "stream",
          "name": "stdout",
          "text": [
            "Files already downloaded and verified\n"
          ]
        }
      ]
    },
    {
      "cell_type": "markdown",
      "source": [
        "#### По описанию батча, который находится в библиотеке torchvision - readme.html. Используется сборка CIFAR-10 состоящая из 10 объектов, их и обозначим в отдельный list, для дальнейшего обозначения."
      ],
      "metadata": {
        "id": "MBb_QER7Ij6H"
      }
    },
    {
      "cell_type": "code",
      "source": [
        "classes = ('airplane', 'automobile', 'bird', 'cat', 'deer', 'dog', 'frog', 'horse', 'ship', 'truck')"
      ],
      "metadata": {
        "id": "w4cuWG2fHWW3"
      },
      "execution_count": 15,
      "outputs": []
    },
    {
      "cell_type": "markdown",
      "source": [
        "### Перед описанием самой нейронной сетки немного разберем то что у нас есть из данных (немного теории)"
      ],
      "metadata": {
        "id": "mLUfouRrdr7c"
      }
    },
    {
      "cell_type": "markdown",
      "source": [
        "У нас имеется 10 объектов, в виде картинок. Картинки используют канал RGB (CMYK, Альфа и Grayscale отпадают). Что это значит, то что у каждой картинки есть 3 канала цвета. Это так же подтверждает информация, которую получили выше - torch.Size([3, 32, 32]. Первая цифра у нас показывает сколько каналов у изображения. Чтобы не строить большие входящие параметры, возьмем этот признак за главное (признак 3-х каналов), это значит что входящих каналов будет 3. Исходящих каналов будет 10 - т.к. всего 10 объектов в CIFAR-10.\n",
        "\n",
        "Т.к. мы берем картинки как данные (цифры), значит определим их сразу в Conv2d, чтобы не переопределять и не обрезать.\n",
        "\n",
        "Осталось определить скрытые слои и функцию активации...\n",
        "\n",
        "Честно говоря функция leaky_relu и prelu очень заманчивые сами по себе, но они не привередливые и то что ниже нуля не отсеивают, из-за чего может страдать результат, так что возьмем более строгий вариант relu. \n",
        "\n",
        "А раз остановились на relu, значит придется немного поработать с входящими данными, чтобы повысить точность, для этого используем BatchNorm. Раз используем BatchNorm, мы зануляем средние значения, что не очень хорошо и может повлиять на сам батч и захватить лишние признаки у объекта, о которых мы или не знаем или упустили. Чтобы такого не было используем MaxPool. И в конечном итоге используем слои Linear чтобы завершить саму сетку и рассознать наш объект.\n",
        "\n",
        "Раз определились какие у нас будут функции, количество слоев скрытых будем определять эксперементально."
      ],
      "metadata": {
        "id": "xNYWiARPdqHT"
      }
    },
    {
      "cell_type": "markdown",
      "source": [
        "### Теперь опишем нейронную сетку"
      ],
      "metadata": {
        "id": "ogE6fe-AVxY3"
      }
    },
    {
      "cell_type": "code",
      "source": [
        "class Net(nn.Module):\n",
        "    __size_inp_lenear = 2400\n",
        "\n",
        "    def __init__(self):\n",
        "        super(Net, self).__init__()\n",
        "        \n",
        "        self.bn1 = nn.BatchNorm2d(12)\n",
        "        self.bn2 = nn.BatchNorm2d(12)\n",
        "        # Пока не пойму, почему но добавление 2-х батчей улучшает нейронную сеть...\n",
        "        self.bn3 = nn.BatchNorm2d(24)\n",
        "        self.bn4 = nn.BatchNorm2d(24)\n",
        "\n",
        "        self.conv1 = nn.Conv2d(3, 12, 5, padding=1)\n",
        "        self.conv2 = nn.Conv2d(12, 12, 5, padding=1)\n",
        "        self.conv3 = nn.Conv2d(12, 24, 5, padding=1)\n",
        "        self.conv4 = nn.Conv2d(24, 24, 5, padding=1)\n",
        "\n",
        "        self.pool = nn.MaxPool2d(2,2)\n",
        "\n",
        "        self.fc = nn.Linear(self.__size_inp_lenear, 10)\n",
        "        \n",
        "\n",
        "    def forward(self, inputs):\n",
        "      outputs = self.conv1(inputs)\n",
        "      outputs = self.bn1(outputs)\n",
        "      outputs = F.relu(outputs)\n",
        "\n",
        "      outputs = self.conv2(outputs)\n",
        "      outputs = self.bn2(outputs)\n",
        "      outputs = F.relu(outputs)\n",
        "\n",
        "      outputs = self.pool(outputs)\n",
        "\n",
        "      outputs = self.conv3(outputs)\n",
        "      outputs = self.bn3(outputs)\n",
        "      outputs = F.relu(outputs)\n",
        "\n",
        "      outputs = self.conv4(outputs)\n",
        "      outputs = self.bn4(outputs)\n",
        "      outputs = F.relu(outputs)\n",
        "\n",
        "      outputs = outputs.view(-1, self.__size_inp_lenear)\n",
        "      return self.fc(outputs)"
      ],
      "metadata": {
        "id": "6T5ftzjRJPlm"
      },
      "execution_count": 81,
      "outputs": []
    },
    {
      "cell_type": "markdown",
      "source": [
        "### Начнем обучение нейронной сети"
      ],
      "metadata": {
        "id": "Zbe2Y4YTXxIS"
      }
    },
    {
      "cell_type": "code",
      "source": [
        "net = Net()\n",
        "# Переключим нашу сеть на обучение и начнем обучать её\n",
        "net.train()"
      ],
      "metadata": {
        "colab": {
          "base_uri": "https://localhost:8080/"
        },
        "id": "fWQJadRuXjuk",
        "outputId": "bec36a70-2bec-4b30-d666-5d54b2dafe7c"
      },
      "execution_count": 82,
      "outputs": [
        {
          "output_type": "execute_result",
          "data": {
            "text/plain": [
              "Net(\n",
              "  (bn1): BatchNorm2d(12, eps=1e-05, momentum=0.1, affine=True, track_running_stats=True)\n",
              "  (bn2): BatchNorm2d(12, eps=1e-05, momentum=0.1, affine=True, track_running_stats=True)\n",
              "  (bn3): BatchNorm2d(24, eps=1e-05, momentum=0.1, affine=True, track_running_stats=True)\n",
              "  (bn4): BatchNorm2d(24, eps=1e-05, momentum=0.1, affine=True, track_running_stats=True)\n",
              "  (conv1): Conv2d(3, 12, kernel_size=(5, 5), stride=(1, 1), padding=(1, 1))\n",
              "  (conv2): Conv2d(12, 12, kernel_size=(5, 5), stride=(1, 1), padding=(1, 1))\n",
              "  (conv3): Conv2d(12, 24, kernel_size=(5, 5), stride=(1, 1), padding=(1, 1))\n",
              "  (conv4): Conv2d(24, 24, kernel_size=(5, 5), stride=(1, 1), padding=(1, 1))\n",
              "  (pool): MaxPool2d(kernel_size=2, stride=2, padding=0, dilation=1, ceil_mode=False)\n",
              "  (fc): Linear(in_features=2400, out_features=10, bias=True)\n",
              ")"
            ]
          },
          "metadata": {},
          "execution_count": 82
        }
      ]
    },
    {
      "cell_type": "code",
      "source": [
        "# Функцию потери и оптемизацию используем распространенные функции:\n",
        "# Функция потери - перекресная интропия\n",
        "# Оптимизатор - SGD\n",
        "lost_fn = nn.CrossEntropyLoss()\n",
        "optimizer = optim.SGD(net.parameters(), lr=0.01, momentum=0.0)"
      ],
      "metadata": {
        "id": "n6Dna-aBoaNo"
      },
      "execution_count": 83,
      "outputs": []
    },
    {
      "cell_type": "code",
      "source": [
        "net.to(device=device)\n",
        "\n",
        "num_epochs = 5\n",
        "\n",
        "best_accuracy = 0.0\n",
        "\n",
        "for epoch in range(num_epochs):\n",
        "  running_lost = 0.0\n",
        "  running_items = 0.0\n",
        "\n",
        "  for i, (inputs, labels) in enumerate(train_loader, 0):\n",
        "    \n",
        "    # На всякий случай переносим все на ОДНО устройство, чтобы ничего не потерялось!\n",
        "    inputs = Variable(inputs.to(device))\n",
        "    labels = Variable(labels.to(device))\n",
        "\n",
        "    # Зануляем все оптимизатор\n",
        "    optimizer.zero_grad()\n",
        "    # Делаем предсказание\n",
        "    outputs = net(inputs)\n",
        "    # Проверяем потери\n",
        "    lost = lost_fn(outputs, labels)\n",
        "    # Делаем шаг назад по потерям\n",
        "    lost.backward()\n",
        "    # Делаем шаг у оптимизатора\n",
        "    optimizer.step()\n",
        "\n",
        "    # выводим статистику о процессе обучения\n",
        "    running_lost += lost.item()\n",
        "    running_items += len(labels)\n",
        "\n",
        "    if i % 300 == 0:    # печатаем каждые 300 mini-batches\n",
        "            print(f'Epoch [{epoch + 1}/{num_epochs}]. ' \\\n",
        "                  f'Step [{i + 1}/{len(train_loader)}]. ' \\\n",
        "                  f'Loss: {running_lost / running_items:.3f}')\n",
        "            running_lost, running_items = 0.0, 0.0\n",
        "\n",
        "print('Training is finished!')"
      ],
      "metadata": {
        "colab": {
          "base_uri": "https://localhost:8080/"
        },
        "id": "V8gXZYrjrBdB",
        "outputId": "9695e14f-7e51-4c1f-e9e0-fb4556ef74fb"
      },
      "execution_count": 84,
      "outputs": [
        {
          "output_type": "stream",
          "name": "stdout",
          "text": [
            "Epoch [1/5]. Step [1/782]. Loss: 0.038\n",
            "Epoch [1/5]. Step [301/782]. Loss: 0.025\n",
            "Epoch [1/5]. Step [601/782]. Loss: 0.021\n",
            "Epoch [2/5]. Step [1/782]. Loss: 0.020\n",
            "Epoch [2/5]. Step [301/782]. Loss: 0.018\n",
            "Epoch [2/5]. Step [601/782]. Loss: 0.017\n",
            "Epoch [3/5]. Step [1/782]. Loss: 0.016\n",
            "Epoch [3/5]. Step [301/782]. Loss: 0.015\n",
            "Epoch [3/5]. Step [601/782]. Loss: 0.015\n",
            "Epoch [4/5]. Step [1/782]. Loss: 0.014\n",
            "Epoch [4/5]. Step [301/782]. Loss: 0.014\n",
            "Epoch [4/5]. Step [601/782]. Loss: 0.014\n",
            "Epoch [5/5]. Step [1/782]. Loss: 0.011\n",
            "Epoch [5/5]. Step [301/782]. Loss: 0.013\n",
            "Epoch [5/5]. Step [601/782]. Loss: 0.013\n",
            "Training is finished!\n"
          ]
        }
      ]
    },
    {
      "cell_type": "markdown",
      "source": [
        "### Результат\n",
        "В результате получилася наилучший результат с потерей 0.011. Что же сохраним получившуюся модель."
      ],
      "metadata": {
        "id": "f_H-zWQk2KVP"
      }
    },
    {
      "cell_type": "markdown",
      "source": [
        "### Сохранение модели"
      ],
      "metadata": {
        "id": "_vhmrueO2HMX"
      }
    },
    {
      "cell_type": "code",
      "source": [
        "paths = './cifar_10_feed_forward_nn.pth'\n",
        "torch.save(net.state_dict(), paths)"
      ],
      "metadata": {
        "id": "ZOqC3q2tqKDq"
      },
      "execution_count": 85,
      "outputs": []
    },
    {
      "cell_type": "markdown",
      "source": [
        "### Теперь самое время загрузить и проверить то что получилось на реульных данных"
      ],
      "metadata": {
        "id": "SCBaDCsJ20nQ"
      }
    },
    {
      "cell_type": "code",
      "source": [
        "paths = './cifar_10_feed_forward_nn.pth'\n",
        "\n",
        "net = Net()\n",
        "net.load_state_dict(torch.load(paths))"
      ],
      "metadata": {
        "colab": {
          "base_uri": "https://localhost:8080/"
        },
        "id": "Zk_q2nTD26-d",
        "outputId": "feb4dd05-71d3-43ff-9ac0-d54fbdffb56f"
      },
      "execution_count": 86,
      "outputs": [
        {
          "output_type": "execute_result",
          "data": {
            "text/plain": [
              "<All keys matched successfully>"
            ]
          },
          "metadata": {},
          "execution_count": 86
        }
      ]
    },
    {
      "cell_type": "code",
      "source": [
        "data_iter = iter(test_loader)\n",
        "images, labels = data_iter.next()"
      ],
      "metadata": {
        "id": "4jBkgF4v3QQI"
      },
      "execution_count": 87,
      "outputs": []
    },
    {
      "cell_type": "code",
      "source": [
        "net.eval()\n",
        "outputs = net(images)\n",
        "img = torchvision.utils.make_grid(images)\n",
        "img = img / 2 + 0.5\n",
        "npimg = img.numpy()\n",
        "plt.imshow(np.transpose(npimg, (1, 2, 0)))\n",
        "plt.show()\n",
        "\n",
        "print('GroundTruth: ', ' '.join(classes[labels[j]] for j in range(len(labels))))"
      ],
      "metadata": {
        "colab": {
          "base_uri": "https://localhost:8080/",
          "height": 154
        },
        "id": "lrAeKULP3UiA",
        "outputId": "8f23e982-cc85-48fb-f5ce-7cab7a3beaaa"
      },
      "execution_count": 90,
      "outputs": [
        {
          "output_type": "display_data",
          "data": {
            "text/plain": [
              "<Figure size 432x288 with 1 Axes>"
            ],
            "image/png": "[encoded data removed]"
          },
          "metadata": {
            "needs_background": "light"
          }
        },
        {
          "output_type": "stream",
          "name": "stdout",
          "text": [
            "GroundTruth:  cat ship ship airplane frog frog automobile frog cat automobile\n"
          ]
        }
      ]
    },
    {
      "cell_type": "code",
      "source": [
        "_, predicted = torch.max(outputs, 1)\n",
        "\n",
        "predicted"
      ],
      "metadata": {
        "colab": {
          "base_uri": "https://localhost:8080/"
        },
        "id": "gqZ5vsrc3gTn",
        "outputId": "669cf855-9490-4e72-edef-9793f9aed86e"
      },
      "execution_count": 91,
      "outputs": [
        {
          "output_type": "execute_result",
          "data": {
            "text/plain": [
              "tensor([3, 1, 8, 0, 6, 6, 1, 6, 3, 1])"
            ]
          },
          "metadata": {},
          "execution_count": 91
        }
      ]
    },
    {
      "cell_type": "code",
      "source": [
        "gt = np.array([classes[labels[j]] for j in range(len(labels))])\n",
        "pred = np.array([classes[predicted[j]] for j in range(len(labels))])\n",
        "\n",
        "print(gt)\n",
        "print(pred)\n",
        "print(f'Accuracy is {(gt == pred).sum() / len(gt)}')"
      ],
      "metadata": {
        "colab": {
          "base_uri": "https://localhost:8080/"
        },
        "id": "zwJGkoKe3j3_",
        "outputId": "0c0f4b6f-3fab-4033-ab7f-b1922111c6f9"
      },
      "execution_count": 92,
      "outputs": [
        {
          "output_type": "stream",
          "name": "stdout",
          "text": [
            "['cat' 'ship' 'ship' 'airplane' 'frog' 'frog' 'automobile' 'frog' 'cat'\n",
            " 'automobile']\n",
            "['cat' 'automobile' 'ship' 'airplane' 'frog' 'frog' 'automobile' 'frog'\n",
            " 'cat' 'automobile']\n",
            "Accuracy is 0.9\n"
          ]
        }
      ]
    },
    {
      "cell_type": "markdown",
      "source": [
        "### 9 из 10 определилось верно, уже хорошо и пока наилучший вариант."
      ],
      "metadata": {
        "id": "GDvSgaBh7jBO"
      }
    }
  ]
}