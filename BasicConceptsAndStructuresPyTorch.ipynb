{
  "nbformat": 4,
  "nbformat_minor": 0,
  "metadata": {
    "colab": {
      "name": "BasicConceptsAndStructuresPyTorch.ipynb",
      "provenance": [],
      "collapsed_sections": [],
      "authorship_tag": "ABX9TyPoRBdiFylYgYY367KkrvW1",
      "include_colab_link": true
    },
    "kernelspec": {
      "name": "python3",
      "display_name": "Python 3"
    },
    "language_info": {
      "name": "python"
    }
  },
  "cells": [
    {
      "cell_type": "markdown",
      "metadata": {
        "id": "view-in-github",
        "colab_type": "text"
      },
      "source": [
        "<a href=\"https://colab.research.google.com/github/WhiteAndBlackFox/LearningPyTorch/blob/BasicConceptsAndStructuresPyTorch/BasicConceptsAndStructuresPyTorch.ipynb\" target=\"_parent\"><img src=\"https://colab.research.google.com/assets/colab-badge.svg\" alt=\"Open In Colab\"/></a>"
      ]
    },
    {
      "cell_type": "markdown",
      "source": [
        "# Основные понятия и структуры PyTorch"
      ],
      "metadata": {
        "id": "23UsUc9zlL2Y"
      }
    },
    {
      "cell_type": "markdown",
      "source": [
        "#### Подключаем библиотеки"
      ],
      "metadata": {
        "id": "aPGdrb4QlSXd"
      }
    },
    {
      "cell_type": "code",
      "execution_count": 1,
      "metadata": {
        "id": "nR0X633MkEU6"
      },
      "outputs": [],
      "source": [
        "import torch\n",
        "from torch import FloatTensor, IntTensor\n",
        "from torch.autograd import Variable\n",
        "\n",
        "import numpy as np"
      ]
    },
    {
      "cell_type": "markdown",
      "source": [
        "#### Сразу определим, если есть видеокарта, то лучше на ней считать иначе на cpu все делаем"
      ],
      "metadata": {
        "id": "-j9oolmPmWiH"
      }
    },
    {
      "cell_type": "code",
      "source": [
        "device = torch.device(\"cuda:0\" if torch.cuda.is_available() else \"cpu\")\n",
        "print(device)"
      ],
      "metadata": {
        "colab": {
          "base_uri": "https://localhost:8080/"
        },
        "id": "bqqc9gF8mV7o",
        "outputId": "29335ad1-5cb5-4b63-907a-00c2c5524437"
      },
      "execution_count": 2,
      "outputs": [
        {
          "output_type": "stream",
          "name": "stdout",
          "text": [
            "cpu\n"
          ]
        }
      ]
    },
    {
      "cell_type": "markdown",
      "source": [
        "## 1. Создание случайного FloatTensor размера 3x4x5"
      ],
      "metadata": {
        "id": "g9WBImx9lLZg"
      }
    },
    {
      "cell_type": "code",
      "source": [
        "ft = FloatTensor(3, 4, 5, device=device)\n",
        "print(ft)"
      ],
      "metadata": {
        "colab": {
          "base_uri": "https://localhost:8080/"
        },
        "id": "PH7RUGgvlK1A",
        "outputId": "dee08159-2bf2-4edc-dfb3-e9a4615626a0"
      },
      "execution_count": 3,
      "outputs": [
        {
          "output_type": "stream",
          "name": "stdout",
          "text": [
            "tensor([[[-6.5823e-25,  3.0672e-41,  4.7644e-44,  0.0000e+00, -7.1622e-25],\n",
            "         [ 3.0672e-41, -7.1622e-25,  3.0672e-41,  3.5733e-43,  0.0000e+00],\n",
            "         [ 0.0000e+00,  0.0000e+00,  0.0000e+00,  0.0000e+00,  0.0000e+00],\n",
            "         [ 0.0000e+00,  3.5733e-43,  0.0000e+00,  7.1466e-44,  0.0000e+00]],\n",
            "\n",
            "        [[-7.1623e-25,  3.0672e-41, -7.1623e-25,  3.0672e-41,  3.5733e-43],\n",
            "         [ 0.0000e+00,  8.8282e-44,  0.0000e+00, -7.1623e-25,  3.0672e-41],\n",
            "         [-7.1623e-25,  3.0672e-41,  3.5733e-43,  0.0000e+00,  0.0000e+00],\n",
            "         [ 0.0000e+00,  0.0000e+00,  0.0000e+00,  0.0000e+00,  0.0000e+00]],\n",
            "\n",
            "        [[ 3.5733e-43,  0.0000e+00,  0.0000e+00,  0.0000e+00,  0.0000e+00],\n",
            "         [ 0.0000e+00,  0.0000e+00,  0.0000e+00,  3.5733e-43,  0.0000e+00],\n",
            "         [ 0.0000e+00,  0.0000e+00,  0.0000e+00,  0.0000e+00,  0.0000e+00],\n",
            "         [ 0.0000e+00,  0.0000e+00,  0.0000e+00,  0.0000e+00,  0.0000e+00]]])\n"
          ]
        }
      ]
    },
    {
      "cell_type": "markdown",
      "source": [
        "## 2. Посмотрим, какая форма получается"
      ],
      "metadata": {
        "id": "G-a-FUTCpkDf"
      }
    },
    {
      "cell_type": "code",
      "source": [
        "ft.shape"
      ],
      "metadata": {
        "colab": {
          "base_uri": "https://localhost:8080/"
        },
        "id": "Yn7vvln6pDC4",
        "outputId": "df469294-b3ca-4d31-b910-5a37a4859636"
      },
      "execution_count": 4,
      "outputs": [
        {
          "output_type": "execute_result",
          "data": {
            "text/plain": [
              "torch.Size([3, 4, 5])"
            ]
          },
          "metadata": {},
          "execution_count": 4
        }
      ]
    },
    {
      "cell_type": "markdown",
      "source": [
        "## 3. Попробуем привести её к форме 6х10"
      ],
      "metadata": {
        "id": "lq6hm5Rbp-pH"
      }
    },
    {
      "cell_type": "code",
      "source": [
        "ft = torch.reshape(ft, (6, 10))\n",
        "print(ft)"
      ],
      "metadata": {
        "colab": {
          "base_uri": "https://localhost:8080/"
        },
        "id": "1z_XZdgtqHtg",
        "outputId": "b9835dc4-1611-4352-ce62-d401c5bdfa73"
      },
      "execution_count": 5,
      "outputs": [
        {
          "output_type": "stream",
          "name": "stdout",
          "text": [
            "tensor([[-6.5823e-25,  3.0672e-41,  4.7644e-44,  0.0000e+00, -7.1622e-25,\n",
            "          3.0672e-41, -7.1622e-25,  3.0672e-41,  3.5733e-43,  0.0000e+00],\n",
            "        [ 0.0000e+00,  0.0000e+00,  0.0000e+00,  0.0000e+00,  0.0000e+00,\n",
            "          0.0000e+00,  3.5733e-43,  0.0000e+00,  7.1466e-44,  0.0000e+00],\n",
            "        [-7.1623e-25,  3.0672e-41, -7.1623e-25,  3.0672e-41,  3.5733e-43,\n",
            "          0.0000e+00,  8.8282e-44,  0.0000e+00, -7.1623e-25,  3.0672e-41],\n",
            "        [-7.1623e-25,  3.0672e-41,  3.5733e-43,  0.0000e+00,  0.0000e+00,\n",
            "          0.0000e+00,  0.0000e+00,  0.0000e+00,  0.0000e+00,  0.0000e+00],\n",
            "        [ 3.5733e-43,  0.0000e+00,  0.0000e+00,  0.0000e+00,  0.0000e+00,\n",
            "          0.0000e+00,  0.0000e+00,  0.0000e+00,  3.5733e-43,  0.0000e+00],\n",
            "        [ 0.0000e+00,  0.0000e+00,  0.0000e+00,  0.0000e+00,  0.0000e+00,\n",
            "          0.0000e+00,  0.0000e+00,  0.0000e+00,  0.0000e+00,  0.0000e+00]])\n"
          ]
        }
      ]
    },
    {
      "cell_type": "markdown",
      "source": [
        "## 4. Попробуем создать случайный IntTensor размера 10"
      ],
      "metadata": {
        "id": "zYTAL-cCqr0X"
      }
    },
    {
      "cell_type": "code",
      "source": [
        "it = IntTensor(10, device=device)\n",
        "print(it)"
      ],
      "metadata": {
        "colab": {
          "base_uri": "https://localhost:8080/"
        },
        "id": "yIFgJ_J6qtUF",
        "outputId": "57961bb9-5b9f-4c2a-d6ee-337311ee8d12"
      },
      "execution_count": 6,
      "outputs": [
        {
          "output_type": "stream",
          "name": "stdout",
          "text": [
            "tensor([-1709294784,       21888,           1,           0,       65537,\n",
            "           16843009,       65537,    16843009,           1,           0],\n",
            "       dtype=torch.int32)\n"
          ]
        }
      ]
    },
    {
      "cell_type": "markdown",
      "source": [
        "## 5. Попробуем перемножить FloatTensor на созданный IntTensor поэлементно"
      ],
      "metadata": {
        "id": "jhfi1SJur4ZQ"
      }
    },
    {
      "cell_type": "code",
      "source": [
        "ft_mul_it = torch.mul(ft, it)\n",
        "print(ft_mul_it)"
      ],
      "metadata": {
        "colab": {
          "base_uri": "https://localhost:8080/"
        },
        "id": "LjCDYnJwr4BY",
        "outputId": "05cba37e-9cbe-4e56-a815-36e40ef8332f"
      },
      "execution_count": 7,
      "outputs": [
        {
          "output_type": "stream",
          "name": "stdout",
          "text": [
            "tensor([[ 1.1251e-15,  6.7134e-37,  4.7644e-44,  0.0000e+00, -4.6939e-20,\n",
            "          5.1660e-34, -4.6939e-20,  5.1660e-34,  3.5733e-43,  0.0000e+00],\n",
            "        [-0.0000e+00,  0.0000e+00,  0.0000e+00,  0.0000e+00,  0.0000e+00,\n",
            "          0.0000e+00,  2.3418e-38,  0.0000e+00,  7.1466e-44,  0.0000e+00],\n",
            "        [ 1.2242e-15,  6.7134e-37, -7.1623e-25,  0.0000e+00,  2.3418e-38,\n",
            "          0.0000e+00,  5.7857e-39,  0.0000e+00, -7.1623e-25,  0.0000e+00],\n",
            "        [ 1.2242e-15,  6.7134e-37,  3.5733e-43,  0.0000e+00,  0.0000e+00,\n",
            "          0.0000e+00,  0.0000e+00,  0.0000e+00,  0.0000e+00,  0.0000e+00],\n",
            "        [-6.1078e-34,  0.0000e+00,  0.0000e+00,  0.0000e+00,  0.0000e+00,\n",
            "          0.0000e+00,  0.0000e+00,  0.0000e+00,  3.5733e-43,  0.0000e+00],\n",
            "        [-0.0000e+00,  0.0000e+00,  0.0000e+00,  0.0000e+00,  0.0000e+00,\n",
            "          0.0000e+00,  0.0000e+00,  0.0000e+00,  0.0000e+00,  0.0000e+00]])\n"
          ]
        }
      ]
    },
    {
      "cell_type": "markdown",
      "source": [
        "## 6. Попробуем умножить тензор матрично на себя, чтобы результат был размерности 6x6, без использования .dot"
      ],
      "metadata": {
        "id": "0y6r-ObSt6tB"
      }
    },
    {
      "cell_type": "code",
      "source": [
        "mm_ft = torch.matmul(ft_mul_it, ft_mul_it.T)\n",
        "print(mm_ft)"
      ],
      "metadata": {
        "colab": {
          "base_uri": "https://localhost:8080/"
        },
        "id": "x8LW9k7VtMuZ",
        "outputId": "30577e5b-c836-44a4-d969-835244f17ea7"
      },
      "execution_count": 8,
      "outputs": [
        {
          "output_type": "stream",
          "name": "stdout",
          "text": [
            "tensor([[1.2659e-30, 0.0000e+00, 1.3774e-30, 1.3774e-30, 0.0000e+00, 0.0000e+00],\n",
            "        [0.0000e+00, 0.0000e+00, 0.0000e+00, 0.0000e+00, 0.0000e+00, 0.0000e+00],\n",
            "        [1.3774e-30, 0.0000e+00, 1.4988e-30, 1.4988e-30, 0.0000e+00, 0.0000e+00],\n",
            "        [1.3774e-30, 0.0000e+00, 1.4988e-30, 1.4988e-30, 0.0000e+00, 0.0000e+00],\n",
            "        [0.0000e+00, 0.0000e+00, 0.0000e+00, 0.0000e+00, 0.0000e+00, 0.0000e+00],\n",
            "        [0.0000e+00, 0.0000e+00, 0.0000e+00, 0.0000e+00, 0.0000e+00, 0.0000e+00]])\n"
          ]
        }
      ]
    },
    {
      "cell_type": "markdown",
      "source": [
        "## 7. Посчитаем производную функции y = x**3 + z - 75t в точке (1, 0.5, 2)"
      ],
      "metadata": {
        "id": "zgNJOTYpvL7Y"
      }
    },
    {
      "cell_type": "code",
      "source": [
        "x, z, t = [Variable(FloatTensor([i], device=device), requires_grad=True) for i in (1, 0.5, 2)]\n",
        "y = x**3 + z + 75*t\n",
        "y.backward()\n",
        "print(y)"
      ],
      "metadata": {
        "colab": {
          "base_uri": "https://localhost:8080/"
        },
        "id": "h082P7HovMK4",
        "outputId": "8f4bbd25-e71d-484e-92e2-97628247c349"
      },
      "execution_count": 9,
      "outputs": [
        {
          "output_type": "stream",
          "name": "stdout",
          "text": [
            "tensor([151.5000], grad_fn=<AddBackward0>)\n"
          ]
        }
      ]
    },
    {
      "cell_type": "markdown",
      "source": [
        "## 8. Создадим единичный тензор размера 5x6"
      ],
      "metadata": {
        "id": "4ZcwkeYN08Tz"
      }
    },
    {
      "cell_type": "code",
      "source": [
        "ot = torch.ones((5, 6), device=device)\n",
        "print(ot)"
      ],
      "metadata": {
        "colab": {
          "base_uri": "https://localhost:8080/"
        },
        "id": "NON6f0Pm08lC",
        "outputId": "7978e7dd-6e8a-4c8c-82da-96cb2af68321"
      },
      "execution_count": 10,
      "outputs": [
        {
          "output_type": "stream",
          "name": "stdout",
          "text": [
            "tensor([[1., 1., 1., 1., 1., 1.],\n",
            "        [1., 1., 1., 1., 1., 1.],\n",
            "        [1., 1., 1., 1., 1., 1.],\n",
            "        [1., 1., 1., 1., 1., 1.],\n",
            "        [1., 1., 1., 1., 1., 1.]])\n"
          ]
        }
      ]
    },
    {
      "cell_type": "markdown",
      "source": [
        "## 9. Переведем его в формат numpy"
      ],
      "metadata": {
        "id": "bETG5muu1QXC"
      }
    },
    {
      "cell_type": "code",
      "source": [
        "n_ot = ot.numpy()\n",
        "print(n_ot, type(n_ot))"
      ],
      "metadata": {
        "colab": {
          "base_uri": "https://localhost:8080/"
        },
        "id": "ge8Gev841QqA",
        "outputId": "3999862f-5e7f-498d-d5b4-f8ad82f858d2"
      },
      "execution_count": 11,
      "outputs": [
        {
          "output_type": "stream",
          "name": "stdout",
          "text": [
            "[[1. 1. 1. 1. 1. 1.]\n",
            " [1. 1. 1. 1. 1. 1.]\n",
            " [1. 1. 1. 1. 1. 1.]\n",
            " [1. 1. 1. 1. 1. 1.]\n",
            " [1. 1. 1. 1. 1. 1.]] <class 'numpy.ndarray'>\n"
          ]
        }
      ]
    }
  ]
}